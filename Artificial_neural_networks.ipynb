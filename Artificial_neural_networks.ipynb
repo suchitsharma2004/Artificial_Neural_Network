{
 "cells": [
  {
   "cell_type": "code",
   "execution_count": 1,
   "id": "3eac238a",
   "metadata": {},
   "outputs": [],
   "source": [
    "import numpy as np\n",
    "import pandas as pd\n",
    "import tensorflow as tf"
   ]
  },
  {
   "cell_type": "code",
   "execution_count": 2,
   "id": "93d757a0",
   "metadata": {},
   "outputs": [],
   "source": [
    "dataset = pd.read_csv('/Users/suchitsharma/Downloads/Churn_Modelling.csv')\n",
    "X = dataset.iloc[:, 3:-1].values\n",
    "y = dataset.iloc[:, -1].values"
   ]
  },
  {
   "cell_type": "code",
   "execution_count": 3,
   "id": "b558f8b8",
   "metadata": {},
   "outputs": [],
   "source": [
    "from sklearn.preprocessing import LabelEncoder\n",
    "le = LabelEncoder()\n",
    "X[:, 2] = le.fit_transform(X[:, 2])"
   ]
  },
  {
   "cell_type": "code",
   "execution_count": 4,
   "id": "a7104970",
   "metadata": {},
   "outputs": [],
   "source": [
    "from sklearn.compose import ColumnTransformer\n",
    "from sklearn.preprocessing import OneHotEncoder\n",
    "ct = ColumnTransformer(transformers=[('encoder', OneHotEncoder(), [1])], remainder='passthrough')\n",
    "X = np.array(ct.fit_transform(X))"
   ]
  },
  {
   "cell_type": "code",
   "execution_count": 5,
   "id": "b2b07232",
   "metadata": {},
   "outputs": [],
   "source": [
    "from sklearn.model_selection import train_test_split\n",
    "X_train, X_test, y_train, y_test = train_test_split(X, y, test_size = 0.2, random_state = 0)"
   ]
  },
  {
   "cell_type": "code",
   "execution_count": 6,
   "id": "66f1be2c",
   "metadata": {},
   "outputs": [],
   "source": [
    "from sklearn.preprocessing import StandardScaler\n",
    "sc = StandardScaler()\n",
    "X_train = sc.fit_transform(X_train)\n",
    "X_test = sc.transform(X_test)"
   ]
  },
  {
   "cell_type": "code",
   "execution_count": 8,
   "id": "adc29376",
   "metadata": {},
   "outputs": [],
   "source": [
    "ann = tf.keras.models.Sequential()\n",
    "ann.add(tf.keras.layers.Dense(units=6, activation='relu'))\n",
    "ann.add(tf.keras.layers.Dense(units=6, activation='relu'))\n",
    "ann.add(tf.keras.layers.Dense(units=1, activation='sigmoid'))"
   ]
  },
  {
   "cell_type": "code",
   "execution_count": 9,
   "id": "18982324",
   "metadata": {},
   "outputs": [
    {
     "name": "stdout",
     "output_type": "stream",
     "text": [
      "Epoch 1/100\n",
      "250/250 [==============================] - 0s 471us/step - loss: 0.6080 - accuracy: 0.7038\n",
      "Epoch 2/100\n",
      "250/250 [==============================] - 0s 442us/step - loss: 0.4920 - accuracy: 0.7960\n",
      "Epoch 3/100\n",
      "250/250 [==============================] - 0s 454us/step - loss: 0.4638 - accuracy: 0.7962\n",
      "Epoch 4/100\n",
      "250/250 [==============================] - 0s 450us/step - loss: 0.4380 - accuracy: 0.8029\n",
      "Epoch 5/100\n",
      "250/250 [==============================] - 0s 437us/step - loss: 0.4213 - accuracy: 0.8186\n",
      "Epoch 6/100\n",
      "250/250 [==============================] - 0s 429us/step - loss: 0.4122 - accuracy: 0.8219\n",
      "Epoch 7/100\n",
      "250/250 [==============================] - 0s 433us/step - loss: 0.4050 - accuracy: 0.8219\n",
      "Epoch 8/100\n",
      "250/250 [==============================] - 0s 429us/step - loss: 0.3994 - accuracy: 0.8260\n",
      "Epoch 9/100\n",
      "250/250 [==============================] - 0s 442us/step - loss: 0.3938 - accuracy: 0.8250\n",
      "Epoch 10/100\n",
      "250/250 [==============================] - 0s 435us/step - loss: 0.3883 - accuracy: 0.8278\n",
      "Epoch 11/100\n",
      "250/250 [==============================] - 0s 437us/step - loss: 0.3837 - accuracy: 0.8284\n",
      "Epoch 12/100\n",
      "250/250 [==============================] - 0s 431us/step - loss: 0.3792 - accuracy: 0.8291\n",
      "Epoch 13/100\n",
      "250/250 [==============================] - 0s 424us/step - loss: 0.3751 - accuracy: 0.8304\n",
      "Epoch 14/100\n",
      "250/250 [==============================] - 0s 432us/step - loss: 0.3728 - accuracy: 0.8314\n",
      "Epoch 15/100\n",
      "250/250 [==============================] - 0s 437us/step - loss: 0.3704 - accuracy: 0.8322\n",
      "Epoch 16/100\n",
      "250/250 [==============================] - 0s 455us/step - loss: 0.3680 - accuracy: 0.8357\n",
      "Epoch 17/100\n",
      "250/250 [==============================] - 0s 451us/step - loss: 0.3664 - accuracy: 0.8503\n",
      "Epoch 18/100\n",
      "250/250 [==============================] - 0s 457us/step - loss: 0.3646 - accuracy: 0.8518\n",
      "Epoch 19/100\n",
      "250/250 [==============================] - 0s 447us/step - loss: 0.3631 - accuracy: 0.8518\n",
      "Epoch 20/100\n",
      "250/250 [==============================] - 0s 453us/step - loss: 0.3619 - accuracy: 0.8539\n",
      "Epoch 21/100\n",
      "250/250 [==============================] - 0s 455us/step - loss: 0.3612 - accuracy: 0.8543\n",
      "Epoch 22/100\n",
      "250/250 [==============================] - 0s 450us/step - loss: 0.3596 - accuracy: 0.8556\n",
      "Epoch 23/100\n",
      "250/250 [==============================] - 0s 454us/step - loss: 0.3592 - accuracy: 0.8540\n",
      "Epoch 24/100\n",
      "250/250 [==============================] - 0s 449us/step - loss: 0.3583 - accuracy: 0.8561\n",
      "Epoch 25/100\n",
      "250/250 [==============================] - 0s 445us/step - loss: 0.3570 - accuracy: 0.8562\n",
      "Epoch 26/100\n",
      "250/250 [==============================] - 0s 441us/step - loss: 0.3541 - accuracy: 0.8591\n",
      "Epoch 27/100\n",
      "250/250 [==============================] - 0s 440us/step - loss: 0.3519 - accuracy: 0.8580\n",
      "Epoch 28/100\n",
      "250/250 [==============================] - 0s 434us/step - loss: 0.3492 - accuracy: 0.8587\n",
      "Epoch 29/100\n",
      "250/250 [==============================] - 0s 442us/step - loss: 0.3488 - accuracy: 0.8610\n",
      "Epoch 30/100\n",
      "250/250 [==============================] - 0s 437us/step - loss: 0.3476 - accuracy: 0.8586\n",
      "Epoch 31/100\n",
      "250/250 [==============================] - 0s 436us/step - loss: 0.3471 - accuracy: 0.8609\n",
      "Epoch 32/100\n",
      "250/250 [==============================] - 0s 442us/step - loss: 0.3467 - accuracy: 0.8586\n",
      "Epoch 33/100\n",
      "250/250 [==============================] - 0s 441us/step - loss: 0.3462 - accuracy: 0.8596\n",
      "Epoch 34/100\n",
      "250/250 [==============================] - 0s 440us/step - loss: 0.3453 - accuracy: 0.8597\n",
      "Epoch 35/100\n",
      "250/250 [==============================] - 0s 445us/step - loss: 0.3456 - accuracy: 0.8601\n",
      "Epoch 36/100\n",
      "250/250 [==============================] - 0s 436us/step - loss: 0.3453 - accuracy: 0.8589\n",
      "Epoch 37/100\n",
      "250/250 [==============================] - 0s 433us/step - loss: 0.3447 - accuracy: 0.8612\n",
      "Epoch 38/100\n",
      "250/250 [==============================] - 0s 440us/step - loss: 0.3443 - accuracy: 0.8591\n",
      "Epoch 39/100\n",
      "250/250 [==============================] - 0s 430us/step - loss: 0.3447 - accuracy: 0.8604\n",
      "Epoch 40/100\n",
      "250/250 [==============================] - 0s 429us/step - loss: 0.3438 - accuracy: 0.8616\n",
      "Epoch 41/100\n",
      "250/250 [==============================] - 0s 459us/step - loss: 0.3438 - accuracy: 0.8606\n",
      "Epoch 42/100\n",
      "250/250 [==============================] - 0s 481us/step - loss: 0.3439 - accuracy: 0.8599\n",
      "Epoch 43/100\n",
      "250/250 [==============================] - 0s 447us/step - loss: 0.3434 - accuracy: 0.8597\n",
      "Epoch 44/100\n",
      "250/250 [==============================] - 0s 471us/step - loss: 0.3433 - accuracy: 0.8609\n",
      "Epoch 45/100\n",
      "250/250 [==============================] - 0s 494us/step - loss: 0.3431 - accuracy: 0.8602\n",
      "Epoch 46/100\n",
      "250/250 [==============================] - 0s 476us/step - loss: 0.3435 - accuracy: 0.8604\n",
      "Epoch 47/100\n",
      "250/250 [==============================] - 0s 481us/step - loss: 0.3429 - accuracy: 0.8616\n",
      "Epoch 48/100\n",
      "250/250 [==============================] - 0s 558us/step - loss: 0.3425 - accuracy: 0.8618\n",
      "Epoch 49/100\n",
      "250/250 [==============================] - 0s 471us/step - loss: 0.3426 - accuracy: 0.8614\n",
      "Epoch 50/100\n",
      "250/250 [==============================] - 0s 464us/step - loss: 0.3424 - accuracy: 0.8612\n",
      "Epoch 51/100\n",
      "250/250 [==============================] - 0s 462us/step - loss: 0.3420 - accuracy: 0.8595\n",
      "Epoch 52/100\n",
      "250/250 [==============================] - 0s 426us/step - loss: 0.3419 - accuracy: 0.8627\n",
      "Epoch 53/100\n",
      "250/250 [==============================] - 0s 431us/step - loss: 0.3411 - accuracy: 0.8616\n",
      "Epoch 54/100\n",
      "250/250 [==============================] - 0s 430us/step - loss: 0.3413 - accuracy: 0.8624\n",
      "Epoch 55/100\n",
      "250/250 [==============================] - 0s 436us/step - loss: 0.3414 - accuracy: 0.8601\n",
      "Epoch 56/100\n",
      "250/250 [==============================] - 0s 435us/step - loss: 0.3408 - accuracy: 0.8626\n",
      "Epoch 57/100\n",
      "250/250 [==============================] - 0s 433us/step - loss: 0.3410 - accuracy: 0.8626\n",
      "Epoch 58/100\n",
      "250/250 [==============================] - 0s 430us/step - loss: 0.3407 - accuracy: 0.8618\n",
      "Epoch 59/100\n",
      "250/250 [==============================] - 0s 431us/step - loss: 0.3406 - accuracy: 0.8637\n",
      "Epoch 60/100\n",
      "250/250 [==============================] - 0s 433us/step - loss: 0.3406 - accuracy: 0.8616\n",
      "Epoch 61/100\n",
      "250/250 [==============================] - 0s 431us/step - loss: 0.3407 - accuracy: 0.8602\n",
      "Epoch 62/100\n",
      "250/250 [==============================] - 0s 438us/step - loss: 0.3405 - accuracy: 0.8625\n",
      "Epoch 63/100\n",
      "250/250 [==============================] - 0s 469us/step - loss: 0.3403 - accuracy: 0.8610\n",
      "Epoch 64/100\n",
      "250/250 [==============================] - 0s 455us/step - loss: 0.3404 - accuracy: 0.8616\n",
      "Epoch 65/100\n",
      "250/250 [==============================] - 0s 439us/step - loss: 0.3400 - accuracy: 0.8620\n",
      "Epoch 66/100\n",
      "250/250 [==============================] - 0s 432us/step - loss: 0.3400 - accuracy: 0.8645\n",
      "Epoch 67/100\n",
      "250/250 [==============================] - 0s 433us/step - loss: 0.3401 - accuracy: 0.8609\n",
      "Epoch 68/100\n",
      "250/250 [==============================] - 0s 431us/step - loss: 0.3398 - accuracy: 0.8620\n",
      "Epoch 69/100\n",
      "250/250 [==============================] - 0s 431us/step - loss: 0.3397 - accuracy: 0.8622\n",
      "Epoch 70/100\n",
      "250/250 [==============================] - 0s 429us/step - loss: 0.3396 - accuracy: 0.8633\n",
      "Epoch 71/100\n",
      "250/250 [==============================] - 0s 430us/step - loss: 0.3396 - accuracy: 0.8622\n",
      "Epoch 72/100\n",
      "250/250 [==============================] - 0s 444us/step - loss: 0.3394 - accuracy: 0.8610\n",
      "Epoch 73/100\n",
      "250/250 [==============================] - 0s 483us/step - loss: 0.3398 - accuracy: 0.8624\n",
      "Epoch 74/100\n",
      "250/250 [==============================] - 0s 439us/step - loss: 0.3398 - accuracy: 0.8620\n",
      "Epoch 75/100\n",
      "250/250 [==============================] - 0s 431us/step - loss: 0.3393 - accuracy: 0.8641\n",
      "Epoch 76/100\n",
      "250/250 [==============================] - 0s 432us/step - loss: 0.3393 - accuracy: 0.8619\n",
      "Epoch 77/100\n",
      "250/250 [==============================] - 0s 429us/step - loss: 0.3393 - accuracy: 0.8616\n",
      "Epoch 78/100\n",
      "250/250 [==============================] - 0s 428us/step - loss: 0.3393 - accuracy: 0.8619\n",
      "Epoch 79/100\n",
      "250/250 [==============================] - 0s 426us/step - loss: 0.3393 - accuracy: 0.8618\n",
      "Epoch 80/100\n",
      "250/250 [==============================] - 0s 424us/step - loss: 0.3392 - accuracy: 0.8621\n",
      "Epoch 81/100\n",
      "250/250 [==============================] - 0s 425us/step - loss: 0.3389 - accuracy: 0.8630\n",
      "Epoch 82/100\n",
      "250/250 [==============================] - 0s 423us/step - loss: 0.3392 - accuracy: 0.8631\n",
      "Epoch 83/100\n",
      "250/250 [==============================] - 0s 433us/step - loss: 0.3391 - accuracy: 0.8637\n",
      "Epoch 84/100\n",
      "250/250 [==============================] - 0s 423us/step - loss: 0.3389 - accuracy: 0.8625\n",
      "Epoch 85/100\n",
      "250/250 [==============================] - 0s 425us/step - loss: 0.3388 - accuracy: 0.8645\n",
      "Epoch 86/100\n",
      "250/250 [==============================] - 0s 426us/step - loss: 0.3389 - accuracy: 0.8620\n",
      "Epoch 87/100\n",
      "250/250 [==============================] - 0s 424us/step - loss: 0.3387 - accuracy: 0.8616\n",
      "Epoch 88/100\n",
      "250/250 [==============================] - 0s 425us/step - loss: 0.3387 - accuracy: 0.8630\n",
      "Epoch 89/100\n",
      "250/250 [==============================] - 0s 427us/step - loss: 0.3387 - accuracy: 0.8622\n",
      "Epoch 90/100\n",
      "250/250 [==============================] - 0s 425us/step - loss: 0.3384 - accuracy: 0.8629\n",
      "Epoch 91/100\n",
      "250/250 [==============================] - 0s 420us/step - loss: 0.3386 - accuracy: 0.8629\n",
      "Epoch 92/100\n",
      "250/250 [==============================] - 0s 425us/step - loss: 0.3385 - accuracy: 0.8639\n",
      "Epoch 93/100\n",
      "250/250 [==============================] - 0s 427us/step - loss: 0.3382 - accuracy: 0.8643\n",
      "Epoch 94/100\n",
      "250/250 [==============================] - 0s 422us/step - loss: 0.3380 - accuracy: 0.8633\n",
      "Epoch 95/100\n",
      "250/250 [==============================] - 0s 432us/step - loss: 0.3383 - accuracy: 0.8621\n",
      "Epoch 96/100\n",
      "250/250 [==============================] - 0s 465us/step - loss: 0.3379 - accuracy: 0.8626\n",
      "Epoch 97/100\n",
      "250/250 [==============================] - 0s 432us/step - loss: 0.3379 - accuracy: 0.8625\n",
      "Epoch 98/100\n",
      "250/250 [==============================] - 0s 421us/step - loss: 0.3383 - accuracy: 0.8640\n",
      "Epoch 99/100\n",
      "250/250 [==============================] - 0s 421us/step - loss: 0.3381 - accuracy: 0.8650\n",
      "Epoch 100/100\n",
      "250/250 [==============================] - 0s 421us/step - loss: 0.3379 - accuracy: 0.8630\n"
     ]
    },
    {
     "data": {
      "text/plain": [
       "<keras.src.callbacks.History at 0x14f917d30>"
      ]
     },
     "execution_count": 9,
     "metadata": {},
     "output_type": "execute_result"
    }
   ],
   "source": [
    "ann.compile(optimizer = 'adam', loss = 'binary_crossentropy', metrics = ['accuracy'])\n",
    "ann.fit(X_train, y_train, batch_size = 32, epochs = 100)"
   ]
  },
  {
   "cell_type": "code",
   "execution_count": 11,
   "id": "4c892706",
   "metadata": {},
   "outputs": [
    {
     "name": "stdout",
     "output_type": "stream",
     "text": [
      "1/1 [==============================] - 0s 14ms/step\n",
      "[[False]]\n"
     ]
    }
   ],
   "source": [
    "print(ann.predict(sc.transform([[1, 0, 0, 600, 1, 40, 3, 60000, 2, 1, 1, 50000]]))>0.5 )"
   ]
  },
  {
   "cell_type": "code",
   "execution_count": 12,
   "id": "eb4aa206",
   "metadata": {},
   "outputs": [
    {
     "name": "stdout",
     "output_type": "stream",
     "text": [
      "63/63 [==============================] - 0s 367us/step\n",
      "[[0 0]\n",
      " [0 1]\n",
      " [0 0]\n",
      " ...\n",
      " [0 0]\n",
      " [0 0]\n",
      " [0 0]]\n"
     ]
    }
   ],
   "source": [
    "y_pred = ann.predict(X_test)\n",
    "y_pred = (y_pred > 0.5)\n",
    "print(np.concatenate((y_pred.reshape(len(y_pred),1), y_test.reshape(len(y_test),1)),1))"
   ]
  },
  {
   "cell_type": "code",
   "execution_count": 13,
   "id": "1b30e915",
   "metadata": {},
   "outputs": [
    {
     "name": "stdout",
     "output_type": "stream",
     "text": [
      "[[1506   89]\n",
      " [ 194  211]]\n"
     ]
    },
    {
     "data": {
      "text/plain": [
       "0.8585"
      ]
     },
     "execution_count": 13,
     "metadata": {},
     "output_type": "execute_result"
    }
   ],
   "source": [
    "from sklearn.metrics import confusion_matrix, accuracy_score\n",
    "cm = confusion_matrix(y_test, y_pred)\n",
    "print(cm)\n",
    "accuracy_score(y_test, y_pred)"
   ]
  },
  {
   "cell_type": "code",
   "execution_count": null,
   "id": "fbec74af",
   "metadata": {},
   "outputs": [],
   "source": []
  }
 ],
 "metadata": {
  "kernelspec": {
   "display_name": "Python 3 (ipykernel)",
   "language": "python",
   "name": "python3"
  },
  "language_info": {
   "codemirror_mode": {
    "name": "ipython",
    "version": 3
   },
   "file_extension": ".py",
   "mimetype": "text/x-python",
   "name": "python",
   "nbconvert_exporter": "python",
   "pygments_lexer": "ipython3",
   "version": "3.10.9"
  }
 },
 "nbformat": 4,
 "nbformat_minor": 5
}
